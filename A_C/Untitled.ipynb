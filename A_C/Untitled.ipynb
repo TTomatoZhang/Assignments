{
 "cells": [
  {
   "cell_type": "code",
   "execution_count": null,
   "metadata": {},
   "outputs": [],
   "source": [
    "import tensorflow as tf\n",
    "\n",
    "#第一个是参数名称，第二个参数是默认值，第三个是参数描述\n",
    "tf.app.flags.DEFINE_string('str_name', 'def_v_1',\"descrip1\")\n",
    "tf.app.flags.DEFINE_integer('int_name', 10,\"descript2\")\n",
    "tf.app.flags.DEFINE_boolean('bool_name', False, \"descript3\")\n",
    "\n",
    "FLAGS = tf.app.flags.FLAGS\n",
    "\n",
    "\n",
    "print(FLAGS.str_name)\n",
    "print(FLAGS.int_name)\n",
    "print(FLAGS.bool_name)\n",
    "\n"
   ]
  },
  {
   "cell_type": "code",
   "execution_count": null,
   "metadata": {},
   "outputs": [],
   "source": []
  },
  {
   "cell_type": "code",
   "execution_count": null,
   "metadata": {},
   "outputs": [],
   "source": []
  }
 ],
 "metadata": {
  "kernelspec": {
   "display_name": "Python 3",
   "language": "python",
   "name": "python3"
  }
 },
 "nbformat": 4,
 "nbformat_minor": 2
}
